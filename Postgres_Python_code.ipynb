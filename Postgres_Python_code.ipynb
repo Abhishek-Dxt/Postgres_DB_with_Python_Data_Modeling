{
 "cells": [
  {
   "cell_type": "code",
   "execution_count": 1,
   "id": "628bd5d6",
   "metadata": {},
   "outputs": [],
   "source": [
    "import pandas as pd\n",
    "import psycopg2"
   ]
  },
  {
   "cell_type": "markdown",
   "id": "cad0fd3d",
   "metadata": {},
   "source": [
    "## Loading data Tables from separate CSV files - "
   ]
  },
  {
   "cell_type": "code",
   "execution_count": 2,
   "id": "444fda72",
   "metadata": {},
   "outputs": [
    {
     "data": {
      "text/html": [
       "<div>\n",
       "<style scoped>\n",
       "    .dataframe tbody tr th:only-of-type {\n",
       "        vertical-align: middle;\n",
       "    }\n",
       "\n",
       "    .dataframe tbody tr th {\n",
       "        vertical-align: top;\n",
       "    }\n",
       "\n",
       "    .dataframe thead th {\n",
       "        text-align: right;\n",
       "    }\n",
       "</style>\n",
       "<table border=\"1\" class=\"dataframe\">\n",
       "  <thead>\n",
       "    <tr style=\"text-align: right;\">\n",
       "      <th></th>\n",
       "      <th>atom_id</th>\n",
       "      <th>molecule_id</th>\n",
       "      <th>element</th>\n",
       "      <th>type</th>\n",
       "      <th>charge</th>\n",
       "    </tr>\n",
       "  </thead>\n",
       "  <tbody>\n",
       "    <tr>\n",
       "      <th>0</th>\n",
       "      <td>d100_1</td>\n",
       "      <td>d100</td>\n",
       "      <td>c</td>\n",
       "      <td>22</td>\n",
       "      <td>-0.128</td>\n",
       "    </tr>\n",
       "    <tr>\n",
       "      <th>1</th>\n",
       "      <td>d100_10</td>\n",
       "      <td>d100</td>\n",
       "      <td>h</td>\n",
       "      <td>3</td>\n",
       "      <td>0.132</td>\n",
       "    </tr>\n",
       "    <tr>\n",
       "      <th>2</th>\n",
       "      <td>d100_11</td>\n",
       "      <td>d100</td>\n",
       "      <td>c</td>\n",
       "      <td>29</td>\n",
       "      <td>0.002</td>\n",
       "    </tr>\n",
       "    <tr>\n",
       "      <th>3</th>\n",
       "      <td>d100_12</td>\n",
       "      <td>d100</td>\n",
       "      <td>c</td>\n",
       "      <td>22</td>\n",
       "      <td>-0.128</td>\n",
       "    </tr>\n",
       "    <tr>\n",
       "      <th>4</th>\n",
       "      <td>d100_13</td>\n",
       "      <td>d100</td>\n",
       "      <td>c</td>\n",
       "      <td>22</td>\n",
       "      <td>-0.128</td>\n",
       "    </tr>\n",
       "  </tbody>\n",
       "</table>\n",
       "</div>"
      ],
      "text/plain": [
       "   atom_id molecule_id element  type  charge\n",
       "0   d100_1        d100       c    22  -0.128\n",
       "1  d100_10        d100       h     3   0.132\n",
       "2  d100_11        d100       c    29   0.002\n",
       "3  d100_12        d100       c    22  -0.128\n",
       "4  d100_13        d100       c    22  -0.128"
      ]
     },
     "execution_count": 2,
     "metadata": {},
     "output_type": "execute_result"
    }
   ],
   "source": [
    "atom_data = pd.read_csv(\"data/atom.csv\")\n",
    "atom_data.head()"
   ]
  },
  {
   "cell_type": "code",
   "execution_count": 3,
   "id": "9fac12de",
   "metadata": {},
   "outputs": [
    {
     "name": "stdout",
     "output_type": "stream",
     "text": [
      "<class 'pandas.core.frame.DataFrame'>\n",
      "RangeIndex: 4893 entries, 0 to 4892\n",
      "Data columns (total 5 columns):\n",
      " #   Column       Non-Null Count  Dtype  \n",
      "---  ------       --------------  -----  \n",
      " 0   atom_id      4893 non-null   object \n",
      " 1   molecule_id  4893 non-null   object \n",
      " 2   element      4893 non-null   object \n",
      " 3   type         4893 non-null   int64  \n",
      " 4   charge       4893 non-null   float64\n",
      "dtypes: float64(1), int64(1), object(3)\n",
      "memory usage: 191.3+ KB\n"
     ]
    }
   ],
   "source": [
    "atom_data.info()"
   ]
  },
  {
   "cell_type": "code",
   "execution_count": 4,
   "id": "9addaf8f",
   "metadata": {},
   "outputs": [
    {
     "data": {
      "text/html": [
       "<div>\n",
       "<style scoped>\n",
       "    .dataframe tbody tr th:only-of-type {\n",
       "        vertical-align: middle;\n",
       "    }\n",
       "\n",
       "    .dataframe tbody tr th {\n",
       "        vertical-align: top;\n",
       "    }\n",
       "\n",
       "    .dataframe thead th {\n",
       "        text-align: right;\n",
       "    }\n",
       "</style>\n",
       "<table border=\"1\" class=\"dataframe\">\n",
       "  <thead>\n",
       "    <tr style=\"text-align: right;\">\n",
       "      <th></th>\n",
       "      <th>atom1_id</th>\n",
       "      <th>atom2_id</th>\n",
       "      <th>type</th>\n",
       "    </tr>\n",
       "  </thead>\n",
       "  <tbody>\n",
       "    <tr>\n",
       "      <th>0</th>\n",
       "      <td>d100_1</td>\n",
       "      <td>d100_2</td>\n",
       "      <td>7</td>\n",
       "    </tr>\n",
       "    <tr>\n",
       "      <th>1</th>\n",
       "      <td>d100_1</td>\n",
       "      <td>d100_7</td>\n",
       "      <td>1</td>\n",
       "    </tr>\n",
       "    <tr>\n",
       "      <th>2</th>\n",
       "      <td>d100_11</td>\n",
       "      <td>d100_12</td>\n",
       "      <td>7</td>\n",
       "    </tr>\n",
       "    <tr>\n",
       "      <th>3</th>\n",
       "      <td>d100_12</td>\n",
       "      <td>d100_13</td>\n",
       "      <td>7</td>\n",
       "    </tr>\n",
       "    <tr>\n",
       "      <th>4</th>\n",
       "      <td>d100_12</td>\n",
       "      <td>d100_17</td>\n",
       "      <td>1</td>\n",
       "    </tr>\n",
       "  </tbody>\n",
       "</table>\n",
       "</div>"
      ],
      "text/plain": [
       "  atom1_id atom2_id  type\n",
       "0   d100_1   d100_2     7\n",
       "1   d100_1   d100_7     1\n",
       "2  d100_11  d100_12     7\n",
       "3  d100_12  d100_13     7\n",
       "4  d100_12  d100_17     1"
      ]
     },
     "execution_count": 4,
     "metadata": {},
     "output_type": "execute_result"
    }
   ],
   "source": [
    "bond_data = pd.read_csv(\"data/bond.csv\")\n",
    "bond_data.head()"
   ]
  },
  {
   "cell_type": "code",
   "execution_count": 5,
   "id": "a455cd77",
   "metadata": {},
   "outputs": [
    {
     "name": "stdout",
     "output_type": "stream",
     "text": [
      "<class 'pandas.core.frame.DataFrame'>\n",
      "RangeIndex: 5243 entries, 0 to 5242\n",
      "Data columns (total 3 columns):\n",
      " #   Column    Non-Null Count  Dtype \n",
      "---  ------    --------------  ----- \n",
      " 0   atom1_id  5243 non-null   object\n",
      " 1   atom2_id  5243 non-null   object\n",
      " 2   type      5243 non-null   int64 \n",
      "dtypes: int64(1), object(2)\n",
      "memory usage: 123.0+ KB\n"
     ]
    }
   ],
   "source": [
    "bond_data.info()"
   ]
  },
  {
   "cell_type": "code",
   "execution_count": 6,
   "id": "eab26fbd",
   "metadata": {},
   "outputs": [
    {
     "data": {
      "text/html": [
       "<div>\n",
       "<style scoped>\n",
       "    .dataframe tbody tr th:only-of-type {\n",
       "        vertical-align: middle;\n",
       "    }\n",
       "\n",
       "    .dataframe tbody tr th {\n",
       "        vertical-align: top;\n",
       "    }\n",
       "\n",
       "    .dataframe thead th {\n",
       "        text-align: right;\n",
       "    }\n",
       "</style>\n",
       "<table border=\"1\" class=\"dataframe\">\n",
       "  <thead>\n",
       "    <tr style=\"text-align: right;\">\n",
       "      <th></th>\n",
       "      <th>molecule_id</th>\n",
       "      <th>ind1</th>\n",
       "      <th>inda</th>\n",
       "      <th>logp</th>\n",
       "      <th>lumo</th>\n",
       "      <th>mutagenic</th>\n",
       "    </tr>\n",
       "  </thead>\n",
       "  <tbody>\n",
       "    <tr>\n",
       "      <th>0</th>\n",
       "      <td>d1</td>\n",
       "      <td>1</td>\n",
       "      <td>0</td>\n",
       "      <td>4.23</td>\n",
       "      <td>-1.246</td>\n",
       "      <td>yes</td>\n",
       "    </tr>\n",
       "    <tr>\n",
       "      <th>1</th>\n",
       "      <td>d10</td>\n",
       "      <td>1</td>\n",
       "      <td>0</td>\n",
       "      <td>4.62</td>\n",
       "      <td>-1.387</td>\n",
       "      <td>yes</td>\n",
       "    </tr>\n",
       "    <tr>\n",
       "      <th>2</th>\n",
       "      <td>d100</td>\n",
       "      <td>0</td>\n",
       "      <td>0</td>\n",
       "      <td>2.68</td>\n",
       "      <td>-1.034</td>\n",
       "      <td>no</td>\n",
       "    </tr>\n",
       "    <tr>\n",
       "      <th>3</th>\n",
       "      <td>d101</td>\n",
       "      <td>1</td>\n",
       "      <td>0</td>\n",
       "      <td>6.26</td>\n",
       "      <td>-1.598</td>\n",
       "      <td>yes</td>\n",
       "    </tr>\n",
       "    <tr>\n",
       "      <th>4</th>\n",
       "      <td>d102</td>\n",
       "      <td>1</td>\n",
       "      <td>0</td>\n",
       "      <td>2.40</td>\n",
       "      <td>-3.172</td>\n",
       "      <td>yes</td>\n",
       "    </tr>\n",
       "  </tbody>\n",
       "</table>\n",
       "</div>"
      ],
      "text/plain": [
       "  molecule_id  ind1  inda  logp   lumo mutagenic\n",
       "0          d1     1     0  4.23 -1.246       yes\n",
       "1         d10     1     0  4.62 -1.387       yes\n",
       "2        d100     0     0  2.68 -1.034        no\n",
       "3        d101     1     0  6.26 -1.598       yes\n",
       "4        d102     1     0  2.40 -3.172       yes"
      ]
     },
     "execution_count": 6,
     "metadata": {},
     "output_type": "execute_result"
    }
   ],
   "source": [
    "molecule_data = pd.read_csv(\"data/molecule.csv\")\n",
    "molecule_data.head()"
   ]
  },
  {
   "cell_type": "code",
   "execution_count": 7,
   "id": "4f39e857",
   "metadata": {},
   "outputs": [
    {
     "name": "stdout",
     "output_type": "stream",
     "text": [
      "<class 'pandas.core.frame.DataFrame'>\n",
      "RangeIndex: 188 entries, 0 to 187\n",
      "Data columns (total 6 columns):\n",
      " #   Column       Non-Null Count  Dtype  \n",
      "---  ------       --------------  -----  \n",
      " 0   molecule_id  188 non-null    object \n",
      " 1   ind1         188 non-null    int64  \n",
      " 2   inda         188 non-null    int64  \n",
      " 3   logp         188 non-null    float64\n",
      " 4   lumo         188 non-null    float64\n",
      " 5   mutagenic    188 non-null    object \n",
      "dtypes: float64(2), int64(2), object(2)\n",
      "memory usage: 8.9+ KB\n"
     ]
    }
   ],
   "source": [
    "molecule_data.info()"
   ]
  },
  {
   "cell_type": "markdown",
   "id": "034c9fe2",
   "metadata": {},
   "source": [
    "## Data Model & ER diagram -"
   ]
  },
  {
   "cell_type": "code",
   "execution_count": 19,
   "id": "f9a26fc5",
   "metadata": {},
   "outputs": [
    {
     "data": {
      "image/png": "[encoded data removed]",
      "text/plain": [
       "<IPython.core.display.Image object>"
      ]
     },
     "metadata": {},
     "output_type": "display_data"
    }
   ],
   "source": [
    "from IPython.display import Image, display\n",
    "display(Image('E_R_diagram.PNG'))"
   ]
  },
  {
   "cell_type": "markdown",
   "id": "8e754355",
   "metadata": {},
   "source": [
    "## Creating a new database (Postgres) - "
   ]
  },
  {
   "cell_type": "code",
   "execution_count": 8,
   "id": "df862182",
   "metadata": {},
   "outputs": [],
   "source": [
    "def create_new_db():\n",
    "    conn = psycopg2.connect(\"host=127.0.0.1 dbname=postgres user=postgres password=****\") # connecting to default db \n",
    "    conn.set_session(autocommit=True)\n",
    "    \n",
    "    cur = conn.cursor() # cursor to run SQL queries\n",
    "\n",
    "    # creating the new database (removing all earlier versions, if present)\n",
    "    cur.execute(\"DROP DATABASE IF EXISTS mutagenesis\")\n",
    "    cur.execute(\"CREATE DATABASE mutagenesis\")\n",
    "    cur.close()\n",
    "    \n",
    "    conn = psycopg2.connect(\"host=127.0.0.1 dbname=mutagenesis user=postgres password=admin\")\n",
    "    cur = conn.cursor()\n",
    "    \n",
    "    return cur, conn"
   ]
  },
  {
   "cell_type": "code",
   "execution_count": 9,
   "id": "102c33e1",
   "metadata": {},
   "outputs": [],
   "source": [
    "cur, conn = create_new_db()"
   ]
  },
  {
   "cell_type": "markdown",
   "id": "aa12e2c5",
   "metadata": {},
   "source": [
    "### Creating tables in the new database - "
   ]
  },
  {
   "cell_type": "code",
   "execution_count": 10,
   "id": "7ff25e43",
   "metadata": {},
   "outputs": [],
   "source": [
    "create_atom_table = (\"\"\"\n",
    "    CREATE TABLE IF NOT EXISTS atom (atom_id VARCHAR, \n",
    "                                    molecule_id VARCHAR, \n",
    "                                    element VARCHAR, \n",
    "                                    type NUMERIC, \n",
    "                                    charge NUMERIC)\"\"\")"
   ]
  },
  {
   "cell_type": "code",
   "execution_count": 11,
   "id": "9d47ab0f",
   "metadata": {},
   "outputs": [],
   "source": [
    "cur.execute(create_atom_table)\n",
    "conn.commit()"
   ]
  },
  {
   "cell_type": "code",
   "execution_count": 12,
   "id": "79b84d77",
   "metadata": {},
   "outputs": [],
   "source": [
    "create_bond_table = (\"\"\"\n",
    "    CREATE TABLE IF NOT EXISTS bond (atom1_id VARCHAR, \n",
    "                                    atom2_id VARCHAR, \n",
    "                                    type NUMERIC)\"\"\")"
   ]
  },
  {
   "cell_type": "code",
   "execution_count": 13,
   "id": "4f20ec42",
   "metadata": {},
   "outputs": [],
   "source": [
    "cur.execute(create_bond_table)\n",
    "conn.commit()"
   ]
  },
  {
   "cell_type": "code",
   "execution_count": 14,
   "id": "1871ca46",
   "metadata": {},
   "outputs": [],
   "source": [
    "create_molecule_table = (\"\"\"\n",
    "    CREATE TABLE IF NOT EXISTS molecule (molecule_id VARCHAR, \n",
    "                                    ind1 NUMERIC, \n",
    "                                    inda NUMERIC, \n",
    "                                    logp NUMERIC, \n",
    "                                    lumo NUMERIC, \n",
    "                                    mutagenic VARCHAR)\"\"\")"
   ]
  },
  {
   "cell_type": "code",
   "execution_count": 15,
   "id": "018cbfc1",
   "metadata": {},
   "outputs": [],
   "source": [
    "cur.execute(create_molecule_table)\n",
    "conn.commit()"
   ]
  },
  {
   "cell_type": "markdown",
   "id": "f4cd8d50",
   "metadata": {},
   "source": [
    "### Inserting data into the tables - "
   ]
  },
  {
   "cell_type": "code",
   "execution_count": 16,
   "id": "de83030f",
   "metadata": {},
   "outputs": [],
   "source": [
    "atom_table_insert = (\"\"\"INSERT INTO atom(\n",
    "atom_id, \n",
    "molecule_id, \n",
    "element, \n",
    "type, \n",
    "charge)\n",
    "VALUES (%s, %s, %s, %s, %s)\n",
    "\"\"\")\n",
    "\n",
    "for i,row in atom_data.iterrows():\n",
    "    cur.execute(atom_table_insert, list(row))\n",
    "    \n",
    "conn.commit()"
   ]
  },
  {
   "cell_type": "code",
   "execution_count": 17,
   "id": "5fbdd608",
   "metadata": {},
   "outputs": [],
   "source": [
    "bond_table_insert = (\"\"\"INSERT INTO bond(\n",
    "atom1_id, \n",
    "atom2_id, \n",
    "type)\n",
    "VALUES (%s, %s, %s)\n",
    "\"\"\")\n",
    "\n",
    "for i,row in bond_data.iterrows():\n",
    "    cur.execute(bond_table_insert, list(row))\n",
    "    \n",
    "conn.commit()"
   ]
  },
  {
   "cell_type": "code",
   "execution_count": 18,
   "id": "d62d1e1b",
   "metadata": {},
   "outputs": [],
   "source": [
    "molecule_table_insert = (\"\"\"INSERT INTO molecule(\n",
    "molecule_id, \n",
    "ind1,\n",
    "inda,\n",
    "logp,\n",
    "lumo, \n",
    "mutagenic)\n",
    "VALUES (%s, %s, %s, %s, %s, %s)\n",
    "\"\"\")\n",
    "\n",
    "for i,row in molecule_data.iterrows():\n",
    "    cur.execute(molecule_table_insert, list(row))\n",
    "    \n",
    "conn.commit()"
   ]
  }
 ],
 "metadata": {
  "kernelspec": {
   "display_name": "Python 3 (ipykernel)",
   "language": "python",
   "name": "python3"
  },
  "language_info": {
   "codemirror_mode": {
    "name": "ipython",
    "version": 3
   },
   "file_extension": ".py",
   "mimetype": "text/x-python",
   "name": "python",
   "nbconvert_exporter": "python",
   "pygments_lexer": "ipython3",
   "version": "3.9.6"
  }
 },
 "nbformat": 4,
 "nbformat_minor": 5
}
